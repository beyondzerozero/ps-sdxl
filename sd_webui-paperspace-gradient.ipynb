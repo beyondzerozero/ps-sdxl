{
 "cells": [
  {
   "cell_type": "markdown",
   "metadata": {},
   "source": [
    "# SDXL 환경구축 및 처음 실행 (머신을 시작할 때마다 실행)\n",
    "## code by ZERO"
   ]
  },
  {
   "cell_type": "code",
   "execution_count": null,
   "metadata": {
    "id": "qfGtMLwLpCr3"
   },
   "outputs": [],
   "source": [
    "# 필요한 파일 설치하기\n",
    "!apt -q update\n",
    "!apt -yq install python3.10\n",
    "!apt -yq install libpython3.10-dev build-essential aria2\n",
    "!curl -sS https://bootstrap.pypa.io/get-pip.py | python3.10\n",
    "!python3.10 -m pip install -q torch==2.0.0+cu118 torchvision==0.15.1+cu118 torchaudio==2.0.1+cu118 torchtext==0.15.1 torchdata==0.6.0 --extra-index-url https://download.pytorch.org/whl/cu118 -U\n",
    "!python3.10 -m pip install -q xformers==0.0.18 triton==2.0.0 -U\n",
    "!python3.10 -m pip install -q httpx==0.24.1 -U\n",
    "!python3.10 -m pip install -q matplotlib -U\n",
    "!python3.10 -m pip install -q ipython -U\n",
    "# setuptools 및 관련 패키지 재설치\n",
    "!python3.10 -m pip uninstall -y setuptools pkg_resources\n",
    "!python3.10 -m pip install setuptools pkg_resources packaging\n",
    "\n",
    "import os\n",
    "import glob\n",
    "from IPython import get_ipython\n",
    "\n",
    "# 그래프 그리기 라이브러리를 인라인으로 표시 설정하기 \n",
    "get_ipython().run_line_magic('matplotlib', 'inline')\n",
    "\n",
    "# Stable Diffusion WebUI 리포지토리가 없으면 복제하기 \n",
    "if not os.path.isdir(\"/notebooks/ui\"):\n",
    "    %cd /notebooks\n",
    "    !git clone https://github.com/AUTOMATIC1111/stable-diffusion-webui /notebooks/ui\n",
    "    # Stable Diffusion WebUI v1.6.0을 사용함\n",
    "    %cd /notebooks/ui\n",
    "    !git checkout master\n",
    "    !git checkout 5ef669de080814067961f28357256e8fe27544f4\n",
    "\n",
    "# Model이 없는 경우 다운로드 \n",
    "if not glob.glob(\"/notebooks/ui/models/Stable-diffusion/*.safetensors\"):\n",
    "    os.system(\"aria2c --console-log-level=error -c -x 16 -s 16 -k 1M https://huggingface.co/bluepen5805/blue_pencil-XL/resolve/main/blue_pencil-XL-v0.8.0.safetensors -d /notebooks/ui/models/Stable-diffusion -o blue_pencil-XL-v0.8.0.safetensors\")\n",
    "\n",
    "# 설정변경\n",
    "%cd /notebooks/ui\n",
    "!sed -i -e 's/\\[\"sd_model_checkpoint\"\\]/\\[\"sd_model_checkpoint\",\"sd_vae\",\"CLIP_stop_at_last_layers\"\\]/g' /notebooks/ui/modules/shared_options.py\n",
    "\n",
    "# SDXL용 UI 편집 \n",
    "if os.path.exists(\"/notebooks/ui/ui-config.json\"):\n",
    "    !sed -i -e 's/value\": 512/value\": 1024/g' /notebooks/ui/ui-config.json\n",
    "    !sed -i -e 's/Grid margins (px)\\/value\": 0/Grid margins (px)\\/value\": 5/g' /notebooks/ui/ui-config.json\n",
    "\n",
    "if os.path.exists(\"/notebooks/ui/config.json\"):\n",
    "    !sed -i -e 's/\"\\[date\\]\"/\"\\[date\\]-\\[model_name\\]\"/g' /notebooks/ui/config.json\n",
    "\n",
    "# Stable Diffusion WebUI 시작하기 \n",
    "!python3.10 launch.py --xformers --enable-insecure-extension-access --share --gradio-queue --no-half-vae --skip-version-check\n",
    "\n"
   ]
  },
  {
   "cell_type": "markdown",
   "metadata": {
    "execution": {
     "iopub.execute_input": "2023-10-18T14:09:04.897523Z",
     "iopub.status.busy": "2023-10-18T14:09:04.897039Z",
     "iopub.status.idle": "2023-10-18T14:09:04.900148Z",
     "shell.execute_reply": "2023-10-18T14:09:04.899647Z",
     "shell.execute_reply.started": "2023-10-18T14:09:04.897501Z"
    }
   },
   "source": [
    "# 처음 시작 후 실행하기"
   ]
  },
  {
   "cell_type": "code",
   "execution_count": null,
   "metadata": {},
   "outputs": [],
   "source": [
    "# SDXL용 UI 편집 \n",
    "if os.path.exists(\"/notebooks/ui/ui-config.json\"):\n",
    "    !sed -i -e 's/value\": 512/value\": 1024/g' /notebooks/ui/ui-config.json\n",
    "    !sed -i -e 's/Grid margins (px)\\/value\": 0/Grid margins (px)\\/value\": 5/g' /notebooks/ui/ui-config.json\n",
    "    \n",
    "if os.path.exists(\"/notebooks/ui/config.json\"):\n",
    "    !sed -i -e 's/\"\\[date\\]\"/\"\\[date\\]-\\[model_name\\]\"/g' /notebooks/ui/config.json\n",
    "\n",
    "# Stable Diffusion WebUI 시작하기\n",
    "%cd /notebooks/ui\n",
    "!python3.10 launch.py --xformers --enable-insecure-extension-access --share --gradio-queue --no-half-vae --skip-version-check"
   ]
  }
 ],
 "metadata": {
  "colab": {
   "private_outputs": true,
   "provenance": []
  },
  "gpuClass": "standard",
  "kernelspec": {
   "display_name": "Python 3 (ipykernel)",
   "language": "python",
   "name": "python3"
  },
  "language_info": {
   "codemirror_mode": {
    "name": "ipython",
    "version": 3
   },
   "file_extension": ".py",
   "mimetype": "text/x-python",
   "name": "python",
   "nbconvert_exporter": "python",
   "pygments_lexer": "ipython3",
   "version": "3.9.16"
  }
 },
 "nbformat": 4,
 "nbformat_minor": 4
}
